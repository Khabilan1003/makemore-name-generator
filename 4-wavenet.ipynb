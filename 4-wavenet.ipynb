{
 "cells": [
  {
   "cell_type": "code",
   "execution_count": 1,
   "metadata": {},
   "outputs": [],
   "source": [
    "import torch\n",
    "import torch.nn.functional as F\n",
    "import matplotlib.pyplot as plt\n",
    "%matplotlib inline"
   ]
  },
  {
   "cell_type": "code",
   "execution_count": 2,
   "metadata": {},
   "outputs": [],
   "source": [
    "words = open(\"names.txt\" , \"r\").read().splitlines()"
   ]
  },
  {
   "cell_type": "code",
   "execution_count": 3,
   "metadata": {},
   "outputs": [],
   "source": [
    "chars = sorted(list(set(''.join(words))))\n",
    "\n",
    "stoi = {c : idx + 1 for idx , c in enumerate(chars)}\n",
    "stoi['.'] = 0\n",
    "itos = {idx : c for c , idx in stoi.items()}"
   ]
  },
  {
   "cell_type": "code",
   "execution_count": 4,
   "metadata": {},
   "outputs": [],
   "source": [
    "vocab_size = len(stoi)"
   ]
  },
  {
   "cell_type": "code",
   "execution_count": 541,
   "metadata": {},
   "outputs": [],
   "source": [
    "# Dataset Preperation\n",
    "block_size = 8\n",
    "\n",
    "X = []\n",
    "y = []\n",
    "\n",
    "\n",
    "for word in words:\n",
    "    context = [0] * block_size\n",
    "    word = list(word) + ['.']\n",
    "    \n",
    "    for ch in word:\n",
    "        idx = stoi[ch]\n",
    "        \n",
    "        X.append(context)\n",
    "        y.append(idx)\n",
    "        \n",
    "        context = context[1:] + [idx]\n",
    "    \n",
    "n1 = int(0.8 * len(X))\n",
    "n2 = int(0.9 * len(X))\n",
    "\n",
    "X_train = torch.tensor(X[:n1])\n",
    "y_train = torch.tensor(y[:n1])\n",
    "X_val = torch.tensor(X[n1:n2])\n",
    "y_val = torch.tensor(y[n1:n2])\n",
    "X_test = torch.tensor(X[n2:])\n",
    "y_test = torch.tensor(y[n2:])"
   ]
  },
  {
   "cell_type": "code",
   "execution_count": 717,
   "metadata": {},
   "outputs": [
    {
     "name": "stdout",
     "output_type": "stream",
     "text": [
      "........ --> e\n",
      ".......e --> m\n",
      "......em --> m\n",
      ".....emm --> a\n",
      "....emma --> .\n",
      "........ --> o\n",
      ".......o --> l\n",
      "......ol --> i\n",
      ".....oli --> v\n",
      "....oliv --> i\n",
      "...olivi --> a\n",
      "..olivia --> .\n",
      "........ --> a\n",
      ".......a --> v\n",
      "......av --> a\n",
      ".....ava --> .\n",
      "........ --> i\n",
      ".......i --> s\n",
      "......is --> a\n",
      ".....isa --> b\n"
     ]
    }
   ],
   "source": [
    "for x,y in zip(X_train[:20], y_train[:20]):\n",
    "  print(''.join(itos[ix.item()] for ix in x), '-->', itos[y.item()])"
   ]
  },
  {
   "cell_type": "code",
   "execution_count": 721,
   "metadata": {},
   "outputs": [],
   "source": [
    "class Linear:\n",
    "    def __init__(self , fan_in , fan_out , bias=True):\n",
    "        self.weight = torch.randn((fan_in , fan_out)) / fan_in**0.5\n",
    "        self.bias = torch.zeros(fan_out) if bias else None\n",
    "\n",
    "    def __call__(self , x):\n",
    "        self.out = x @ self.weight\n",
    "        if self.bias is not None:\n",
    "            self.out += self.bias\n",
    "        return self.out\n",
    "    \n",
    "    def parameters(self):\n",
    "        return [self.weight] + ([] if self.bias is None else [self.bias])\n",
    "    \n",
    "class BatchNormalization:\n",
    "    def __init__(self , dim , eps=1e-5 , momentum=0.1):\n",
    "        self.eps = eps\n",
    "        self.momentum = momentum\n",
    "        self.training = True\n",
    "        # Parameters training with backprops\n",
    "        self.gamma = torch.ones(dim)\n",
    "        self.beta = torch.zeros(dim)\n",
    "        # Buffers (trained with running momentum update)\n",
    "        self.running_mean = torch.zeros(dim)\n",
    "        self.running_var = torch.ones(dim)\n",
    "    \n",
    "    def __call__(self , x: torch.Tensor):\n",
    "        if self.training:\n",
    "            if x.ndim == 2:\n",
    "                dim = 0\n",
    "            elif x.ndim == 3:\n",
    "                dim = (0,1)\n",
    "            xmean = x.mean(dim , keepdim=True)\n",
    "            xvar = x.var(dim , keepdim=True)\n",
    "        else:\n",
    "            xmean = self.running_mean\n",
    "            xvar = self.running_var\n",
    "        \n",
    "        xhat = (x - xmean)/torch.sqrt(xvar + self.eps)\n",
    "        self.out = self.gamma * xhat + self.beta\n",
    "        \n",
    "        # Update the buffers\n",
    "        if self.training:\n",
    "            with torch.no_grad():\n",
    "                self.running_mean = (1 - self.momentum) * self.running_mean + self.momentum * xmean\n",
    "                self.running_var = (1 - self.momentum) * self.running_var + self.momentum * xvar\n",
    "        \n",
    "        return self.out\n",
    "    \n",
    "    def parameters(self):\n",
    "        return [self.gamma , self.beta]\n",
    "    \n",
    "class Tanh:\n",
    "    def __call__(self, x):\n",
    "        self.out = torch.tanh(x)\n",
    "        return self.out\n",
    "    \n",
    "    def parameters(self):\n",
    "        return []\n",
    "\n",
    "class Embedding:\n",
    "    def __init__(self , num_of_embeddings , embedding_dim):\n",
    "        self.weight = torch.randn((embedding_dim , num_of_embeddings))\n",
    "    \n",
    "    def __call__(self , x):\n",
    "        self.out = self.weight[x]\n",
    "        return self.out\n",
    "    \n",
    "    def parameters(self):\n",
    "        return [self.weight]\n",
    "\n",
    "class FlattenConsecutive:\n",
    "    def __init__(self, n):\n",
    "        self.n = n\n",
    "        \n",
    "    def __call__(self, x:torch.Tensor):\n",
    "        X , Y , Z = x.shape\n",
    "        x = x.view(X , Y // self.n , Z * self.n)\n",
    "        if x.shape[1] == 1: \n",
    "            x = x.view(x.shape[0] , -1)     \n",
    "        self.out = x\n",
    "        return self.out\n",
    "    \n",
    "    def parameters(self):\n",
    "        return []\n",
    "    \n",
    "class Sequential:\n",
    "    def __init__(self , layers):\n",
    "        self.layers = layers\n",
    "        \n",
    "    def __call__(self, x):\n",
    "        for layer in self.layers:\n",
    "            x  = layer(x)\n",
    "        self.out = x\n",
    "        return x\n",
    "    \n",
    "    def parameters(self):\n",
    "        return [p for layer in self.layers for p in layer.parameters()] \n",
    "    \n",
    "    def trainable(self, flag):\n",
    "        for layer in self.layers:\n",
    "            for p in self.parameters():\n",
    "                p.requires_grad = flag\n",
    "            if isinstance(layer, BatchNormalization):\n",
    "                layer.training = flag\n",
    "    \n",
    "    def trainableParametersCount(self):\n",
    "        return sum([p.nelement() for p in self.parameters()])\n",
    "    \n",
    "    def summary(self):\n",
    "        for layer in self.layers:\n",
    "            if isinstance(layer , Linear):\n",
    "                print(layer.weight.shape)"
   ]
  },
  {
   "cell_type": "code",
   "execution_count": 722,
   "metadata": {},
   "outputs": [],
   "source": [
    "torch.manual_seed(42);"
   ]
  },
  {
   "cell_type": "code",
   "execution_count": 723,
   "metadata": {},
   "outputs": [],
   "source": [
    "n_embed = 10\n",
    "n_hidden = 100"
   ]
  },
  {
   "cell_type": "code",
   "execution_count": 725,
   "metadata": {},
   "outputs": [],
   "source": [
    "model = Sequential([\n",
    "    Embedding(n_embed , vocab_size), FlattenConsecutive(2),\n",
    "    Linear(2 * n_embed , n_hidden , bias=False) , BatchNormalization(n_hidden) , Tanh(), FlattenConsecutive(2),\n",
    "    Linear(2 * n_hidden , n_hidden , bias=False) ,  BatchNormalization(n_hidden) , Tanh(), FlattenConsecutive(2),\n",
    "    Linear(2 * n_hidden , vocab_size , bias=False)\n",
    "])"
   ]
  },
  {
   "cell_type": "code",
   "execution_count": 726,
   "metadata": {},
   "outputs": [],
   "source": [
    "with torch.no_grad():\n",
    "    model.layers[-1].weight *= 0.1"
   ]
  },
  {
   "cell_type": "code",
   "execution_count": 729,
   "metadata": {},
   "outputs": [
    {
     "data": {
      "text/plain": [
       "28070"
      ]
     },
     "execution_count": 729,
     "metadata": {},
     "output_type": "execute_result"
    }
   ],
   "source": [
    "model.trainableParametersCount()"
   ]
  },
  {
   "cell_type": "code",
   "execution_count": 732,
   "metadata": {},
   "outputs": [
    {
     "name": "stdout",
     "output_type": "stream",
     "text": [
      "0 / 100000 : 3.3004\n",
      "10000 / 100000 : 2.2697\n",
      "20000 / 100000 : 1.9793\n",
      "30000 / 100000 : 2.4977\n",
      "40000 / 100000 : 2.2790\n",
      "50000 / 100000 : 1.9486\n",
      "60000 / 100000 : 1.8557\n",
      "70000 / 100000 : 1.4297\n",
      "80000 / 100000 : 1.7938\n",
      "90000 / 100000 : 2.0585\n"
     ]
    }
   ],
   "source": [
    "model.trainable(True)\n",
    "\n",
    "# Training Data\n",
    "steps = 100000\n",
    "batch_size = 32\n",
    "lossi = []\n",
    "\n",
    "for step in range(steps):\n",
    "    idxs = torch.randint(len(X_train) , (batch_size,))\n",
    "    \n",
    "    xb, yb = X_train[idxs] , y_train[idxs]\n",
    "    \n",
    "    # Forward Pass\n",
    "    logits = model(xb)\n",
    "    loss = F.cross_entropy(logits , yb)\n",
    "    \n",
    "    # Backpass\n",
    "    for p in model.parameters():\n",
    "        p.grad = None\n",
    "    loss.backward()\n",
    "\n",
    "    # Gradient Update\n",
    "    lr = 0.1 if step < 150000 else 0.01\n",
    "    for p in model.parameters():\n",
    "        p.data += -lr * p.grad\n",
    "    \n",
    "    # Stats\n",
    "    if step % 10000 == 0:\n",
    "        print(f\"{step} / {steps} : {loss:.4f}\")\n",
    "    \n",
    "    lossi.append(loss.log10().item())"
   ]
  },
  {
   "cell_type": "code",
   "execution_count": 590,
   "metadata": {},
   "outputs": [
    {
     "data": {
      "text/plain": [
       "[<matplotlib.lines.Line2D at 0x7b8e26b28550>]"
      ]
     },
     "execution_count": 590,
     "metadata": {},
     "output_type": "execute_result"
    },
    {
     "data": {
      "image/png": "[encoded data removed]",
      "text/plain": [
       "<Figure size 640x480 with 1 Axes>"
      ]
     },
     "metadata": {},
     "output_type": "display_data"
    }
   ],
   "source": [
    "plt.plot(torch.tensor(lossi).view(-1,100).mean(0))"
   ]
  },
  {
   "cell_type": "code",
   "execution_count": 740,
   "metadata": {},
   "outputs": [
    {
     "name": "stdout",
     "output_type": "stream",
     "text": [
      "Train loss=tensor(1.9618)\n",
      "Test loss=tensor(2.3053)\n"
     ]
    }
   ],
   "source": [
    "model.trainable(False)\n",
    "\n",
    "# Test Loss\n",
    "logits = model(X_train)\n",
    "loss = F.cross_entropy(logits , y_train)\n",
    "\n",
    "print(f\"Train {loss=}\")\n",
    "\n",
    "# Test Loss\n",
    "logits = model(X_val)\n",
    "loss = F.cross_entropy(logits , y_val)\n",
    "\n",
    "print(f\"Test {loss=}\")"
   ]
  },
  {
   "cell_type": "code",
   "execution_count": 510,
   "metadata": {},
   "outputs": [
    {
     "name": "stdout",
     "output_type": "stream",
     "text": [
      "Embedding\n",
      "Weight Grad Mean : -0.0000\n",
      "Weight Grad Std : 0.0120\n",
      "\n",
      "Linear\n",
      "Weight Grad Mean : 0.0004\n",
      "Weight Grad Std : 0.0140\n",
      "\n",
      "Batch Norm 1D\n",
      "Gamma Grad Mean : -0.0007\n",
      "Gamma Grad Std : 0.0060\n",
      "Beta Grad Mean : 0.0013\n",
      "Beta Grad Std : 0.0218\n",
      "\n",
      "Linear\n",
      "Weight Grad Mean : -0.0000\n",
      "Weight Grad Std : 0.0193\n",
      "\n"
     ]
    }
   ],
   "source": [
    "for layer in model.layers:\n",
    "    if isinstance(layer , Linear):\n",
    "        print(\"Linear\")\n",
    "        print(f\"Weight Grad Mean : {layer.weight.grad.mean():.4f}\")\n",
    "        print(f\"Weight Grad Std : {layer.weight.grad.std():.4f}\")\n",
    "        print()\n",
    "    elif isinstance(layer , Embedding):\n",
    "        print(\"Embedding\")\n",
    "        print(f\"Weight Grad Mean : {layer.weight.grad.mean():.4f}\")\n",
    "        print(f\"Weight Grad Std : {layer.weight.grad.std():.4f}\")\n",
    "        print()\n",
    "    elif isinstance(layer , BatchNormalization):\n",
    "        print(\"Batch Norm 1D\")\n",
    "        print(f\"Gamma Grad Mean : {layer.gamma.grad.mean():.4f}\")\n",
    "        print(f\"Gamma Grad Std : {layer.gamma.grad.std():.4f}\")\n",
    "        print(f\"Beta Grad Mean : {layer.beta.grad.mean():.4f}\")\n",
    "        print(f\"Beta Grad Std : {layer.beta.grad.std():.4f}\")\n",
    "        print()\n",
    "    "
   ]
  },
  {
   "cell_type": "code",
   "execution_count": 498,
   "metadata": {},
   "outputs": [
    {
     "data": {
      "text/plain": [
       "[<matplotlib.lines.Line2D at 0x7b8e298626e0>]"
      ]
     },
     "execution_count": 498,
     "metadata": {},
     "output_type": "execute_result"
    },
    {
     "data": {
      "image/png": "[encoded data removed]",
      "text/plain": [
       "<Figure size 640x480 with 1 Axes>"
      ]
     },
     "metadata": {},
     "output_type": "display_data"
    }
   ],
   "source": [
    "hy , hx = torch.histogram(model.layers[2].weight.grad)\n",
    "plt.plot(hx[:-1].detach() , hy.detach())"
   ]
  },
  {
   "cell_type": "code",
   "execution_count": 764,
   "metadata": {},
   "outputs": [
    {
     "name": "stdout",
     "output_type": "stream",
     "text": [
      "khakannika\n",
      "khaia\n",
      "khashawna\n",
      "khath\n",
      "khamane\n",
      "khaliya\n",
      "khash\n",
      "khaelyon\n",
      "khastan\n",
      "khashold\n",
      "khason\n",
      "khahansh\n",
      "khashale\n",
      "khadenia\n",
      "khasanna\n",
      "khadi\n",
      "khama\n",
      "khabane\n",
      "khaderney\n",
      "khableigh\n"
     ]
    }
   ],
   "source": [
    "model.trainable(False)\n",
    "\n",
    "for _ in range(20):\n",
    "    context = [0] * block_size\n",
    "    context[5] = stoi['k']\n",
    "    context[6] = stoi['h']\n",
    "    context[6] = stoi['a']\n",
    "    out = ['k' , 'h' , 'a']\n",
    "    while True:\n",
    "        logit = model(torch.tensor(context).view(1,block_size))\n",
    "        probx = F.softmax(logit , dim=1)\n",
    "        \n",
    "        ix = torch.multinomial(probx , num_samples=1 , generator=g).item()        \n",
    "        if ix == 0:\n",
    "            break\n",
    "        \n",
    "        context = context[1:] + [ix]\n",
    "        out.append(itos[ix])\n",
    "    \n",
    "    print(''.join(out))"
   ]
  },
  {
   "cell_type": "code",
   "execution_count": null,
   "metadata": {},
   "outputs": [],
   "source": []
  }
 ],
 "metadata": {
  "kernelspec": {
   "display_name": "Python 3",
   "language": "python",
   "name": "python3"
  },
  "language_info": {
   "codemirror_mode": {
    "name": "ipython",
    "version": 3
   },
   "file_extension": ".py",
   "mimetype": "text/x-python",
   "name": "python",
   "nbconvert_exporter": "python",
   "pygments_lexer": "ipython3",
   "version": "3.10.12"
  }
 },
 "nbformat": 4,
 "nbformat_minor": 2
}
