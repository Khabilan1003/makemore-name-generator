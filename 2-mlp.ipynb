{
 "cells": [
  {
   "cell_type": "code",
   "execution_count": 2,
   "metadata": {},
   "outputs": [],
   "source": [
    "import torch\n",
    "import torch.nn.functional as F\n",
    "import matplotlib.pyplot as plt"
   ]
  },
  {
   "cell_type": "code",
   "execution_count": 3,
   "metadata": {},
   "outputs": [
    {
     "name": "stdout",
     "output_type": "stream",
     "text": [
      "Using cpu device\n"
     ]
    },
    {
     "name": "stderr",
     "output_type": "stream",
     "text": [
      "/home/khabilan/.local/lib/python3.10/site-packages/torch/cuda/__init__.py:141: UserWarning: CUDA initialization: CUDA unknown error - this may be due to an incorrectly set up environment, e.g. changing env variable CUDA_VISIBLE_DEVICES after program start. Setting the available devices to be zero. (Triggered internally at ../c10/cuda/CUDAFunctions.cpp:108.)\n",
      "  return torch._C._cuda_getDeviceCount() > 0\n"
     ]
    }
   ],
   "source": [
    "device = (\n",
    "    \"cuda\"\n",
    "    if torch.cuda.is_available()\n",
    "    else \"cpu\"\n",
    ")\n",
    "\n",
    "print(f\"Using {device} device\")"
   ]
  },
  {
   "cell_type": "code",
   "execution_count": 6,
   "metadata": {},
   "outputs": [],
   "source": [
    "words = open(\"names.txt\" , \"r\").read().splitlines()"
   ]
  },
  {
   "cell_type": "code",
   "execution_count": 7,
   "metadata": {},
   "outputs": [
    {
     "name": "stdout",
     "output_type": "stream",
     "text": [
      "Number of words : 32033\n"
     ]
    }
   ],
   "source": [
    "print(f\"Number of words : {len(words)}\")"
   ]
  },
  {
   "cell_type": "code",
   "execution_count": 8,
   "metadata": {},
   "outputs": [],
   "source": [
    "chars = sorted(list(set(''.join(words))))\n",
    "\n",
    "stoi = {s:i+1 for i , s in enumerate(chars)}\n",
    "stoi['.'] = 0\n",
    "itos = {i:s for s , i in stoi.items()}"
   ]
  },
  {
   "cell_type": "code",
   "execution_count": 140,
   "metadata": {},
   "outputs": [],
   "source": [
    "# Dataset Preperation\n",
    "block_size = 3\n",
    "\n",
    "X = []\n",
    "y = []\n",
    "\n",
    "\n",
    "for word in words:\n",
    "    context = [0] * block_size\n",
    "    word = list(word) + ['.']\n",
    "    \n",
    "    for ch in word:\n",
    "        idx = stoi[ch]\n",
    "        \n",
    "        X.append(context)\n",
    "        y.append(idx)\n",
    "        \n",
    "        context = context[1:] + [idx]\n",
    "    \n",
    "n1 = int(0.8 * len(X))\n",
    "n2 = int(0.9 * len(X))\n",
    "\n",
    "X_train = torch.tensor(X[:n1])\n",
    "y_train = torch.tensor(y[:n1])\n",
    "X_val = torch.tensor(X[n1:n2])\n",
    "y_val = torch.tensor(y[n1:n2])\n",
    "X_test = torch.tensor(X[n2:])\n",
    "y_test = torch.tensor(y[n2:])"
   ]
  },
  {
   "cell_type": "code",
   "execution_count": 258,
   "metadata": {},
   "outputs": [
    {
     "name": "stdout",
     "output_type": "stream",
     "text": [
      "std=0.3042903097250923\n",
      "Number of trainable parameters : 18297\n"
     ]
    }
   ],
   "source": [
    "# Trainable Parameters\n",
    "neuron_size = 300\n",
    "embed_size = 10\n",
    "input_size = 27\n",
    "\n",
    "tanh_gain = 5 / 3\n",
    "std = tanh_gain / ((embed_size * block_size) ** 0.5)\n",
    "print(f\"{std=}\")\n",
    "\n",
    "C = torch.randn((27,embed_size))\n",
    "W1 = torch.randn((embed_size * block_size,neuron_size)) * std\n",
    "b1 = torch.randn(neuron_size) * std\n",
    "W2 = torch.randn((neuron_size,27)) * std\n",
    "b2 = torch.randn(27) * std\n",
    "bngain = torch.ones(300)\n",
    "bnbias = torch.zeros(300)\n",
    "\n",
    "bnmean_running = torch.ones((1 , 300))\n",
    "bnstd_running = torch.zeros((1 , 300))\n",
    "\n",
    "parameters = [W1 , W2 , b1 , b2 , C , bngain , bnbias]\n",
    "print(f\"Number of trainable parameters : {sum(p.nelement() for p in parameters)}\")\n",
    "for p in parameters:\n",
    "    p.requires_grad = True"
   ]
  },
  {
   "cell_type": "code",
   "execution_count": 276,
   "metadata": {},
   "outputs": [
    {
     "name": "stdout",
     "output_type": "stream",
     "text": [
      "0 / 100000: loss=tensor(2.2922, grad_fn=<NllLossBackward0>)\n",
      "1000 / 100000: loss=tensor(2.4057, grad_fn=<NllLossBackward0>)\n",
      "2000 / 100000: loss=tensor(1.6277, grad_fn=<NllLossBackward0>)\n",
      "3000 / 100000: loss=tensor(2.2330, grad_fn=<NllLossBackward0>)\n",
      "4000 / 100000: loss=tensor(2.4119, grad_fn=<NllLossBackward0>)\n",
      "5000 / 100000: loss=tensor(1.9763, grad_fn=<NllLossBackward0>)\n",
      "6000 / 100000: loss=tensor(2.4836, grad_fn=<NllLossBackward0>)\n",
      "7000 / 100000: loss=tensor(2.4118, grad_fn=<NllLossBackward0>)\n",
      "8000 / 100000: loss=tensor(2.4049, grad_fn=<NllLossBackward0>)\n",
      "9000 / 100000: loss=tensor(2.8746, grad_fn=<NllLossBackward0>)\n",
      "10000 / 100000: loss=tensor(2.1118, grad_fn=<NllLossBackward0>)\n",
      "11000 / 100000: loss=tensor(2.0257, grad_fn=<NllLossBackward0>)\n",
      "12000 / 100000: loss=tensor(1.9596, grad_fn=<NllLossBackward0>)\n",
      "13000 / 100000: loss=tensor(1.7997, grad_fn=<NllLossBackward0>)\n",
      "14000 / 100000: loss=tensor(2.1813, grad_fn=<NllLossBackward0>)\n",
      "15000 / 100000: loss=tensor(2.1118, grad_fn=<NllLossBackward0>)\n",
      "16000 / 100000: loss=tensor(2.3098, grad_fn=<NllLossBackward0>)\n",
      "17000 / 100000: loss=tensor(2.5369, grad_fn=<NllLossBackward0>)\n",
      "18000 / 100000: loss=tensor(2.2065, grad_fn=<NllLossBackward0>)\n",
      "19000 / 100000: loss=tensor(2.1430, grad_fn=<NllLossBackward0>)\n",
      "20000 / 100000: loss=tensor(2.0553, grad_fn=<NllLossBackward0>)\n",
      "21000 / 100000: loss=tensor(2.1670, grad_fn=<NllLossBackward0>)\n",
      "22000 / 100000: loss=tensor(1.5374, grad_fn=<NllLossBackward0>)\n",
      "23000 / 100000: loss=tensor(2.3117, grad_fn=<NllLossBackward0>)\n",
      "24000 / 100000: loss=tensor(2.2339, grad_fn=<NllLossBackward0>)\n",
      "25000 / 100000: loss=tensor(1.9910, grad_fn=<NllLossBackward0>)\n",
      "26000 / 100000: loss=tensor(2.0248, grad_fn=<NllLossBackward0>)\n",
      "27000 / 100000: loss=tensor(2.3192, grad_fn=<NllLossBackward0>)\n",
      "28000 / 100000: loss=tensor(2.2128, grad_fn=<NllLossBackward0>)\n",
      "29000 / 100000: loss=tensor(2.3668, grad_fn=<NllLossBackward0>)\n",
      "30000 / 100000: loss=tensor(2.4432, grad_fn=<NllLossBackward0>)\n",
      "31000 / 100000: loss=tensor(2.0175, grad_fn=<NllLossBackward0>)\n",
      "32000 / 100000: loss=tensor(1.7930, grad_fn=<NllLossBackward0>)\n",
      "33000 / 100000: loss=tensor(2.1522, grad_fn=<NllLossBackward0>)\n",
      "34000 / 100000: loss=tensor(1.9442, grad_fn=<NllLossBackward0>)\n",
      "35000 / 100000: loss=tensor(2.0610, grad_fn=<NllLossBackward0>)\n",
      "36000 / 100000: loss=tensor(1.9891, grad_fn=<NllLossBackward0>)\n",
      "37000 / 100000: loss=tensor(2.3276, grad_fn=<NllLossBackward0>)\n",
      "38000 / 100000: loss=tensor(2.3675, grad_fn=<NllLossBackward0>)\n",
      "39000 / 100000: loss=tensor(2.4115, grad_fn=<NllLossBackward0>)\n",
      "40000 / 100000: loss=tensor(1.9566, grad_fn=<NllLossBackward0>)\n",
      "41000 / 100000: loss=tensor(2.2399, grad_fn=<NllLossBackward0>)\n",
      "42000 / 100000: loss=tensor(2.2589, grad_fn=<NllLossBackward0>)\n",
      "43000 / 100000: loss=tensor(1.8473, grad_fn=<NllLossBackward0>)\n",
      "44000 / 100000: loss=tensor(2.2726, grad_fn=<NllLossBackward0>)\n",
      "45000 / 100000: loss=tensor(2.0246, grad_fn=<NllLossBackward0>)\n",
      "46000 / 100000: loss=tensor(1.9777, grad_fn=<NllLossBackward0>)\n",
      "47000 / 100000: loss=tensor(2.2622, grad_fn=<NllLossBackward0>)\n",
      "48000 / 100000: loss=tensor(1.6420, grad_fn=<NllLossBackward0>)\n",
      "49000 / 100000: loss=tensor(1.8481, grad_fn=<NllLossBackward0>)\n",
      "50000 / 100000: loss=tensor(2.2791, grad_fn=<NllLossBackward0>)\n",
      "51000 / 100000: loss=tensor(2.1488, grad_fn=<NllLossBackward0>)\n",
      "52000 / 100000: loss=tensor(2.0212, grad_fn=<NllLossBackward0>)\n",
      "53000 / 100000: loss=tensor(2.4325, grad_fn=<NllLossBackward0>)\n",
      "54000 / 100000: loss=tensor(1.9955, grad_fn=<NllLossBackward0>)\n",
      "55000 / 100000: loss=tensor(1.9458, grad_fn=<NllLossBackward0>)\n",
      "56000 / 100000: loss=tensor(2.7600, grad_fn=<NllLossBackward0>)\n",
      "57000 / 100000: loss=tensor(1.9329, grad_fn=<NllLossBackward0>)\n",
      "58000 / 100000: loss=tensor(2.2186, grad_fn=<NllLossBackward0>)\n",
      "59000 / 100000: loss=tensor(2.0339, grad_fn=<NllLossBackward0>)\n",
      "60000 / 100000: loss=tensor(1.8019, grad_fn=<NllLossBackward0>)\n",
      "61000 / 100000: loss=tensor(2.1555, grad_fn=<NllLossBackward0>)\n",
      "62000 / 100000: loss=tensor(2.1720, grad_fn=<NllLossBackward0>)\n",
      "63000 / 100000: loss=tensor(1.9844, grad_fn=<NllLossBackward0>)\n",
      "64000 / 100000: loss=tensor(2.1595, grad_fn=<NllLossBackward0>)\n",
      "65000 / 100000: loss=tensor(2.0843, grad_fn=<NllLossBackward0>)\n",
      "66000 / 100000: loss=tensor(2.0358, grad_fn=<NllLossBackward0>)\n",
      "67000 / 100000: loss=tensor(1.9947, grad_fn=<NllLossBackward0>)\n",
      "68000 / 100000: loss=tensor(1.9475, grad_fn=<NllLossBackward0>)\n",
      "69000 / 100000: loss=tensor(2.0552, grad_fn=<NllLossBackward0>)\n",
      "70000 / 100000: loss=tensor(1.8909, grad_fn=<NllLossBackward0>)\n",
      "71000 / 100000: loss=tensor(1.9899, grad_fn=<NllLossBackward0>)\n",
      "72000 / 100000: loss=tensor(2.1231, grad_fn=<NllLossBackward0>)\n",
      "73000 / 100000: loss=tensor(2.4786, grad_fn=<NllLossBackward0>)\n",
      "74000 / 100000: loss=tensor(1.7619, grad_fn=<NllLossBackward0>)\n",
      "75000 / 100000: loss=tensor(1.6180, grad_fn=<NllLossBackward0>)\n",
      "76000 / 100000: loss=tensor(2.0576, grad_fn=<NllLossBackward0>)\n",
      "77000 / 100000: loss=tensor(2.0014, grad_fn=<NllLossBackward0>)\n",
      "78000 / 100000: loss=tensor(1.7338, grad_fn=<NllLossBackward0>)\n",
      "79000 / 100000: loss=tensor(2.3206, grad_fn=<NllLossBackward0>)\n",
      "80000 / 100000: loss=tensor(2.4476, grad_fn=<NllLossBackward0>)\n",
      "81000 / 100000: loss=tensor(1.8501, grad_fn=<NllLossBackward0>)\n",
      "82000 / 100000: loss=tensor(2.0642, grad_fn=<NllLossBackward0>)\n",
      "83000 / 100000: loss=tensor(2.3551, grad_fn=<NllLossBackward0>)\n",
      "84000 / 100000: loss=tensor(1.8063, grad_fn=<NllLossBackward0>)\n",
      "85000 / 100000: loss=tensor(2.3694, grad_fn=<NllLossBackward0>)\n",
      "86000 / 100000: loss=tensor(1.9330, grad_fn=<NllLossBackward0>)\n",
      "87000 / 100000: loss=tensor(2.0269, grad_fn=<NllLossBackward0>)\n",
      "88000 / 100000: loss=tensor(2.2076, grad_fn=<NllLossBackward0>)\n",
      "89000 / 100000: loss=tensor(2.4079, grad_fn=<NllLossBackward0>)\n",
      "90000 / 100000: loss=tensor(2.1827, grad_fn=<NllLossBackward0>)\n",
      "91000 / 100000: loss=tensor(1.8740, grad_fn=<NllLossBackward0>)\n",
      "92000 / 100000: loss=tensor(2.2159, grad_fn=<NllLossBackward0>)\n",
      "93000 / 100000: loss=tensor(2.3487, grad_fn=<NllLossBackward0>)\n",
      "94000 / 100000: loss=tensor(2.3506, grad_fn=<NllLossBackward0>)\n",
      "95000 / 100000: loss=tensor(1.8799, grad_fn=<NllLossBackward0>)\n",
      "96000 / 100000: loss=tensor(2.6949, grad_fn=<NllLossBackward0>)\n",
      "97000 / 100000: loss=tensor(2.1618, grad_fn=<NllLossBackward0>)\n",
      "98000 / 100000: loss=tensor(2.2330, grad_fn=<NllLossBackward0>)\n",
      "99000 / 100000: loss=tensor(1.8340, grad_fn=<NllLossBackward0>)\n"
     ]
    }
   ],
   "source": [
    "batch_size = 32\n",
    "learning_rate = 1e-1\n",
    "\n",
    "step_i = []\n",
    "loss_i = []\n",
    "\n",
    "for i in range(100000):\n",
    "    idx = torch.randint(len(X_train) , (batch_size,))\n",
    "    \n",
    "    xb = X_train[idx]\n",
    "    yb = y_train[idx]\n",
    "    \n",
    "    # Forward Pass\n",
    "    x = C[xb]\n",
    "    x = x.view(-1,C.shape[1] * block_size) @ W1 + b1\n",
    "    \n",
    "    # Normalization\n",
    "    bnmean = x.mean(0 , keepdim=True)\n",
    "    bnstd = x.std(0 , keepdim=True) \n",
    "    x = bngain * ((x - bnmean) / bnstd) + bnbias\n",
    "    with torch.no_grad():\n",
    "        bnmean_running = 0.999 * bnmean_running + 0.001 * bnmean\n",
    "        bnstd_running = 0.999 * bnstd_running + 0.001 * bnstd\n",
    "\n",
    "    x = torch.tanh(x)\n",
    "    x = x @ W2 + b2\n",
    "    loss = F.cross_entropy(x , yb)\n",
    "    \n",
    "    # Backward Pass\n",
    "    for p in parameters:\n",
    "        p.grad = None\n",
    "    loss.backward()\n",
    "    for p in parameters:\n",
    "        p.data += -learning_rate*p.grad\n",
    "    \n",
    "    step_i.append(i)\n",
    "    loss_i.append(loss.item())\n",
    "    \n",
    "    if i % 1000 == 0:\n",
    "        print(f\"{i} / 100000: {loss=}\")"
   ]
  },
  {
   "cell_type": "code",
   "execution_count": 277,
   "metadata": {},
   "outputs": [
    {
     "data": {
      "text/plain": [
       "[<matplotlib.lines.Line2D at 0x7589f29fac80>]"
      ]
     },
     "execution_count": 277,
     "metadata": {},
     "output_type": "execute_result"
    },
    {
     "data": {
      "image/png": "[encoded data removed]",
      "text/plain": [
       "<Figure size 640x480 with 1 Axes>"
      ]
     },
     "metadata": {},
     "output_type": "display_data"
    }
   ],
   "source": [
    "plt.plot( step_i, loss_i)"
   ]
  },
  {
   "cell_type": "code",
   "execution_count": 278,
   "metadata": {},
   "outputs": [
    {
     "name": "stdout",
     "output_type": "stream",
     "text": [
      "Train loss=tensor(2.0769, grad_fn=<NllLossBackward0>)\n",
      "Test loss=tensor(2.4232, grad_fn=<NllLossBackward0>)\n"
     ]
    }
   ],
   "source": [
    "# Test Loss\n",
    "x = C[X_train]\n",
    "x = x.view(-1,C.shape[1] * block_size) @ W1 + b1\n",
    "x = bngain * ((x - bnmean_running) / bnstd_running) + bnbias\n",
    "x = torch.tanh(x)\n",
    "x = x @ W2 + b2\n",
    "loss = F.cross_entropy(x , y_train)\n",
    "\n",
    "print(f\"Train {loss=}\")\n",
    "\n",
    "# Test Loss\n",
    "x = C[X_test]\n",
    "x = x.view(-1,C.shape[1] * block_size) @ W1 + b1\n",
    "x = bngain * ((x - bnmean_running) / bnstd_running) + bnbias\n",
    "x = torch.tanh(x)\n",
    "x = x @ W2 + b2\n",
    "loss = F.cross_entropy(x , y_test)\n",
    "\n",
    "print(f\"Test {loss=}\")"
   ]
  },
  {
   "cell_type": "code",
   "execution_count": null,
   "metadata": {},
   "outputs": [],
   "source": []
  },
  {
   "cell_type": "code",
   "execution_count": 287,
   "metadata": {},
   "outputs": [
    {
     "data": {
      "text/plain": [
       "(torch.Size([32, 300]), torch.Size([1, 300]))"
      ]
     },
     "execution_count": 287,
     "metadata": {},
     "output_type": "execute_result"
    }
   ],
   "source": [
    "x = (C[X_test[:32]].view(-1 , 30) @ W1)\n",
    "bnmean1 = x.mean(0 , keepdim=True)\n",
    "x.shape , bnmean1.shape"
   ]
  },
  {
   "cell_type": "code",
   "execution_count": 279,
   "metadata": {},
   "outputs": [
    {
     "name": "stdout",
     "output_type": "stream",
     "text": [
      "khal\n",
      "kherman\n",
      "khy\n",
      "kharmaser\n",
      "kharneha\n",
      "khaida\n",
      "kheriya\n",
      "kharalynn\n",
      "khariyabeth\n",
      "kherik\n",
      "khyanna\n",
      "khalynn\n",
      "khankeyla\n",
      "khan\n",
      "khaela\n",
      "kheus\n",
      "khargustefan\n",
      "khari\n",
      "khan\n",
      "khalima\n"
     ]
    }
   ],
   "source": [
    "g = torch.Generator().manual_seed(12151)\n",
    "\n",
    "for _ in range(20):\n",
    "    \n",
    "    out = ['k' , 'h' ]\n",
    "    # context = [0] * block_size\n",
    "    context = [0, stoi['k'] , stoi['h']]\n",
    "    while True:\n",
    "        # Forward Passing\n",
    "        x = C[context]\n",
    "        x = x.view(-1,C.shape[1] * block_size) @ W1 + b1\n",
    "        x = bngain * ((x - bnmean_running) / bnstd_running) + bnbias\n",
    "        x = torch.tanh(x)\n",
    "        x = x @ W2 + b2\n",
    "        probx = F.softmax(x , dim=1)\n",
    "        \n",
    "        ix = torch.multinomial(probx , num_samples=1 , generator=g).item()        \n",
    "        if ix == 0:\n",
    "            break\n",
    "        \n",
    "        context = context[1:] + [ix]\n",
    "        out.append(itos[ix])\n",
    "    \n",
    "    print(''.join(out))"
   ]
  },
  {
   "cell_type": "code",
   "execution_count": null,
   "metadata": {},
   "outputs": [],
   "source": []
  }
 ],
 "metadata": {
  "kernelspec": {
   "display_name": "Python 3",
   "language": "python",
   "name": "python3"
  },
  "language_info": {
   "codemirror_mode": {
    "name": "ipython",
    "version": 3
   },
   "file_extension": ".py",
   "mimetype": "text/x-python",
   "name": "python",
   "nbconvert_exporter": "python",
   "pygments_lexer": "ipython3",
   "version": "3.10.12"
  }
 },
 "nbformat": 4,
 "nbformat_minor": 2
}
